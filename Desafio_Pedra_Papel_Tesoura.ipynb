{
  "nbformat": 4,
  "nbformat_minor": 0,
  "metadata": {
    "colab": {
      "provenance": [],
      "authorship_tag": "ABX9TyPkOTodxF7hBiRP0FTnFb2O",
      "include_colab_link": true
    },
    "kernelspec": {
      "name": "python3",
      "display_name": "Python 3"
    },
    "language_info": {
      "name": "python"
    }
  },
  "cells": [
    {
      "cell_type": "markdown",
      "metadata": {
        "id": "view-in-github",
        "colab_type": "text"
      },
      "source": [
        "<a href=\"https://colab.research.google.com/github/LaraSampaio20/Python/blob/main/Desafio_Pedra_Papel_Tesoura.ipynb\" target=\"_parent\"><img src=\"https://colab.research.google.com/assets/colab-badge.svg\" alt=\"Open In Colab\"/></a>"
      ]
    },
    {
      "cell_type": "code",
      "execution_count": null,
      "metadata": {
        "colab": {
          "base_uri": "https://localhost:8080/"
        },
        "id": "YHNPS9nagBv5",
        "outputId": "cabed706-d10d-43d1-c3b7-ad6cd4b46a41"
      },
      "outputs": [
        {
          "output_type": "stream",
          "name": "stdout",
          "text": [
            "Qual o valor da casa a ser comprada? 200000\n",
            "Qual o seu salário? 5000\n",
            "Em quantas parcelas deseja pagar? 60\n",
            "O valor das parcalas mensal é de 3333.33. \n",
            "a porcentagem correspondente aos 30% do seu salário é 1500.00.\n",
            "Sendo assim: Empréstimo não aprovado\n"
          ]
        }
      ],
      "source": [
        "#Exercio 1 - Escreva um codigo par aparovar um empréstimo bancario para a compra de um imóvel\n",
        "#Precisa ter o valor do imovel, o salario, e em quantos anos quer pagar\n",
        "#É necessário calcular o valor sobre as parcelas, sabendo que nao pode ultrapassar de 30% do salario\n",
        "\n",
        "#Variavéis\n",
        "casa = int(input(\"Qual o valor da casa a ser comprada? \"))\n",
        "\n",
        "salario = int(input(\"Qual o seu salário? \"))\n",
        "\n",
        "parcelas = int(input(\"Em quantas parcelas deseja pagar? \"))\n",
        "\n",
        "parcela_mensal = casa / parcelas\n",
        "\n",
        "porc_salario = (salario * 30) / 100\n",
        "\n",
        "if parcela_mensal > porc_salario:\n",
        "  print(f\"O valor das parcalas mensal é de {parcela_mensal:.2f}. \\na porcentagem correspondente aos 30% do seu salário é {porc_salario:.2f}.\\nSendo assim: Empréstimo não aprovado\")\n",
        "elif parcela_mensal == porc_salario:\n",
        "  print(f\"Empréstimo em analise. O valor mensal é de {parcela_mensal:.2f},\\na porcentagem correspondente aos 30% do seu salário é {porc_salario:.2f}.\")\n",
        "else:\n",
        "  print(f\"O valor das parcalas mensal é de {parcela_mensal:.2f}. Já a porcentagem correspondente aos 30% do seu salário é {porc_salario:.2f}.\\nSendo assim: Empréstimo aprovado!!!\")\n",
        "\n",
        "\n",
        "#Teste de calculo mensal das parcelas\n",
        "# print(f\"{valor_mensal:.2f}\")\n",
        "\n",
        "\n"
      ]
    },
    {
      "cell_type": "code",
      "source": [
        "#Teste 2 - Faça uma comparação de numeros, usando IF Elif e Else\n",
        "\n",
        "num1 = int(input(\"Insira o primeiro numero:\" ))\n",
        "num2 = int(input(\"Insira o segundo numero:\" ))\n",
        "\n",
        "if num1 > num2:\n",
        "  print(f\"O numero {num1} é maior!\")\n",
        "\n",
        "elif num2 > num1:\n",
        "  print(f\"O numero {num2} é maior!\")\n",
        "\n",
        "else:\n",
        "  print(\"Não existe valor maior, o dois são iguais!!!\")"
      ],
      "metadata": {
        "colab": {
          "base_uri": "https://localhost:8080/"
        },
        "id": "DdcNTU0Mzf39",
        "outputId": "8b9c9fe5-590d-4326-b85f-0a4c789fddb0"
      },
      "execution_count": null,
      "outputs": [
        {
          "output_type": "stream",
          "name": "stdout",
          "text": [
            "Insira o primeiro numero:70\n",
            "Insira o segundo numero:70\n",
            "Não existe valor maior, o dois são iguais!!!\n"
          ]
        }
      ]
    },
    {
      "cell_type": "code",
      "source": [
        "#Teste3 - Escolha o tipo de conversao com comparacoes\n",
        "\n",
        "escolha = input(\"Escolha o tipo da conversão que deseja fazer?\" )\n",
        "\n",
        "\n",
        "# A instrução if not em Python serve para executar um bloco de código quando uma condição é falsa ou\n",
        "# quando um objeto é considerado \"falsy\" como uma lista vazia ou zero).\n",
        "# Ela é utilizada para verificar a ausência de algo,\n",
        "# negando o resultado de uma expressão lógica ou a \"verdade\" de um valor,\n",
        "# tornando o código mais conciso e legível para verificar cenários negativos.\n",
        "\n",
        "if not escolha:\n",
        "  print(\"Por favor, insira um valor.\")\n",
        "elif not escolha.isdigit():\n",
        "  print(\"Entrada inválida. Por favor, insira um número inteiro.\")\n",
        "else:\n",
        "  escolha = int(escolha)\n",
        "  if escolha == 1:\n",
        "    print(\"Você escolheu o tipo Binário!\")\n",
        "\n",
        "  elif escolha == 2:\n",
        "    print(\"Você escolheu o tipo Octal!\")\n",
        "\n",
        "  elif escolha == 3:\n",
        "    print(\"Você escolheu o tipo Hexadecimal!\")\n",
        "\n",
        "  elif escolha <= 0:\n",
        "    print(\"Escolha uma das opções para continuar.\")\n",
        "\n",
        "  else:\n",
        "    print(\"escolha uma das opções\")"
      ],
      "metadata": {
        "colab": {
          "base_uri": "https://localhost:8080/"
        },
        "id": "uKEkiIg61V8_",
        "outputId": "fc8c7ebb-67c7-4f63-d997-760b78a940bc"
      },
      "execution_count": null,
      "outputs": [
        {
          "output_type": "stream",
          "name": "stdout",
          "text": [
            "Escolha o tipo da conversão que deseja fazer?6\n",
            "escolha uma das opções\n"
          ]
        }
      ]
    },
    {
      "cell_type": "markdown",
      "source": [
        "*DESAFIO: PEDRA, PAPEL E TESOURA - TESTE 1*"
      ],
      "metadata": {
        "id": "hOQdFSdZOhjb"
      }
    },
    {
      "cell_type": "code",
      "source": [
        "#Bibliotecas no python são pacotes que te ajudam no código.\n",
        "#Esse RANDOM por exemplo nos ajuda a ter essa interação com o computador.\n",
        "from random import randint\n",
        "\n",
        "itens = ['Pedra', 'Papel', 'Tesoura']\n",
        "\n",
        "computador = randint(0,2)\n",
        "#print('O computador escolheu{}'.format(itens[computador]))- Ação do computador\n",
        "\n",
        "print('''Suas opções:\n",
        "[0] Pedra\n",
        "[1] Papel\n",
        "[2] Tesoura''')\n",
        "jogador = int(input('Qual a sua jogada humano? ' ))\n",
        "\n",
        "print('-=' * 11)\n",
        "print('O computador escolheu {} '.format(itens[computador]))\n",
        "print('O jogador escolheu {}'.format(itens[jogador]))\n",
        "print('-=' * 11)\n",
        "\n",
        "if computador == 0: #Computador jogou PEDRA\n",
        "  if jogador == 0: #Jogador jogou PEDRA\n",
        "    print('Empate')\n",
        "  elif jogador == 1: #Computador jogou PEDRA e o jogador PAPEL\n",
        "    print('O Jogador Venceu!!')\n",
        "  elif jogador == 2: #Computador jogou PEDRA e o jogador TESOURA\n",
        "    print('O computador Venceu!!')\n",
        "  else:\n",
        "    print('Jogada Inválida!Tente novamente.')\n",
        "\n",
        "elif computador == 1: #O computador jogou PAPEL\n",
        "   if jogador == 0: #Jogador jogou PEDRA\n",
        "    print('O computador venceu!!')\n",
        "   elif jogador == 1: #Computador jogou PAPEL e o jogador PAPEL\n",
        "    print('Empate')\n",
        "   elif jogador == 2: #Computador jogou PAPEL e o jogador TESOURA\n",
        "    print('O jogador Venceu!!')\n",
        "   else:\n",
        "    print('Jogada Inválida!Tente novamente.')\n",
        "\n",
        "\n",
        "elif computador == 2: #O computador jogou TESOURA\n",
        "  if jogador == 0: #Jogador jogou PEDRA\n",
        "    print('O jogador venceu!!')\n",
        "  elif jogador == 1: #Computador jogou TESOURA e o jogador PAPEL\n",
        "    print('O computador venceu!')\n",
        "  elif jogador == 2: #Computador jogou TESOURA e o jogador TESOURA\n",
        "    print('Empate')\n",
        "  else:\n",
        "    print('Jogada Inválida!Tente novamente.')\n"
      ],
      "metadata": {
        "colab": {
          "base_uri": "https://localhost:8080/"
        },
        "id": "GkSrapq31fHb",
        "outputId": "e50f1738-7912-4229-c10e-b4a5f17d49b3"
      },
      "execution_count": null,
      "outputs": [
        {
          "output_type": "stream",
          "name": "stdout",
          "text": [
            "Suas opções: \n",
            "[0] Pedra\n",
            "[1] Papel\n",
            "[2] Tesoura\n",
            "Qual a sua jogada humano? 2\n",
            "-=-=-=-=-=-=-=-=-=-=-=\n",
            "O computador escolheu Papel \n",
            "O jogador escolheu Tesoura\n",
            "-=-=-=-=-=-=-=-=-=-=-=\n",
            "O jogador Venceu!!\n"
          ]
        }
      ]
    },
    {
      "cell_type": "markdown",
      "source": [
        "*DESAFIO: PEDRA, PAPEL E *TESOURA* - TESTE 2*\n"
      ],
      "metadata": {
        "id": "1aEnW3el_Enq"
      }
    },
    {
      "cell_type": "code",
      "source": [
        "#é possivel colocar random.choice(itens) para colocar as opções em texto.\n",
        "from random import randint\n",
        "\n",
        "# Variável lista com os itens do jogo\n",
        "itens = ['Pedra', 'Papel', 'Tesoura']\n",
        "\n",
        "# Variavel lista para guarar a somatoria do vencedor\n",
        "resultado = []\n",
        "\n",
        "#variável iista de controle de input do jogador\n",
        "valores = [0,1,2]\n",
        "\n",
        "# Variavel criada para controle, se o numero esta correto\n",
        "t = 0\n",
        "p = 0\n",
        "\n",
        "while p <= 0:\n",
        "  try:\n",
        "\n",
        "      jogadas = int(input('Em quantas rodadas deseja jogar? ' ))\n",
        "      p = p+1\n",
        "  except ValueError:\n",
        "      print(\"Entrada inválida, digite novamente.\")\n",
        "\n",
        "# Range significa escala ou tamanho, definição.\n",
        "# O for significa um laço de repetição, onde vc conhece o tamanho da repetição(Range)\n",
        "for i in range(jogadas):\n",
        "\n",
        "#print('O computador escolheu{}'.format(itens[computador]))- Ação do computador\n",
        "      computador = randint(0,2)\n",
        "\n",
        "\n",
        "      print('''Suas opções:\n",
        "      [0] Pedra\n",
        "      [1] Papel\n",
        "      [2] Tesoura ''')\n",
        "\n",
        "\n",
        "      #O While segue o mesmo do FOR, porém vc desconhece quantas vezes irá repetir.\n",
        "      while t <= (jogadas -1):\n",
        "         try:\n",
        "          jogador = int(input('Qual a sua jogada humano? ' ))\n",
        "          if jogador in valores:\n",
        "            print('-=' * 11)\n",
        "            print('O computador escolheu {} '.format(itens[computador]))\n",
        "            print('O jogador escolheu {}'.format(itens[jogador]))\n",
        "            print('-=' * 11)\n",
        "\n",
        "            if (computador == 0 and jogador == 0) or (computador == 1 and jogador == 1) or (computador == 2 and jogador == 2):\n",
        "              print('Empate')\n",
        "              resultado.append(0)\n",
        "            elif (computador == 0 and jogador == 2) or (computador == 1 and jogador == 0) or (computador == 2 and jogador == 1):\n",
        "              print('O computador venceu!!')\n",
        "              resultado.append(1)\n",
        "            else:\n",
        "              print('O jogador venceu!!')\n",
        "              resultado.append(-1)\n",
        "\n",
        "            t = t+1\n",
        "          else:\n",
        "            print(\"Opção inválida, tente novamente.\")\n",
        "\n",
        "\n",
        "         except ValueError:\n",
        "          print(\"Entrada inválida, digite novamente.\")\n",
        "      break\n",
        "\n",
        "\n",
        "\n",
        "soma = sum(resultado)\n",
        "print(resultado)\n",
        "print(soma)\n",
        "  #Determinar o vencedor final: Depois que o loop while terminar,\n",
        "  #compare as pontuações finais para declarar o vencedor:\n",
        "print(\"*\"*11)\n",
        "print(\"Fim de Jogo\")\n",
        "print(\"*\"*11)\n",
        "print(\"-=\"*11)\n",
        "\n",
        "print(\"-=\"*11)\n",
        "\n",
        "if soma > 0:\n",
        "      print(\"Parabens BIP! Você venceu o torneio!!!\")\n",
        "elif soma < 0:\n",
        "      print(\"Parabens Lara! Você venceu o torneio!!\")\n",
        "else:\n",
        "      print(\"Parabens aos competidores! Terminamos em um Empate!!!\")\n",
        "\n",
        "\n",
        "\n",
        "\n"
      ],
      "metadata": {
        "colab": {
          "base_uri": "https://localhost:8080/"
        },
        "id": "Ijj31tgl_Ikq",
        "outputId": "8492d3bd-3ca4-4fc2-b5be-2971fd90f27c"
      },
      "execution_count": null,
      "outputs": [
        {
          "output_type": "stream",
          "name": "stdout",
          "text": [
            "Em quantas rodadas deseja jogar? 3\n",
            "Suas opções:\n",
            "      [0] Pedra\n",
            "      [1] Papel\n",
            "      [2] Tesoura \n",
            "Qual a sua jogada humano? 2\n",
            "-=-=-=-=-=-=-=-=-=-=-=\n",
            "O computador escolheu Pedra \n",
            "O jogador escolheu Tesoura\n",
            "-=-=-=-=-=-=-=-=-=-=-=\n",
            "O computador venceu!!\n",
            "Qual a sua jogada humano? 1\n",
            "-=-=-=-=-=-=-=-=-=-=-=\n",
            "O computador escolheu Pedra \n",
            "O jogador escolheu Papel\n",
            "-=-=-=-=-=-=-=-=-=-=-=\n",
            "O jogador venceu!!\n",
            "Qual a sua jogada humano? 0\n",
            "-=-=-=-=-=-=-=-=-=-=-=\n",
            "O computador escolheu Pedra \n",
            "O jogador escolheu Pedra\n",
            "-=-=-=-=-=-=-=-=-=-=-=\n",
            "Empate\n",
            "[1, -1, 0]\n",
            "0\n",
            "***********\n",
            "Fim de Jogo\n",
            "***********\n",
            "-=-=-=-=-=-=-=-=-=-=-=\n",
            "-=-=-=-=-=-=-=-=-=-=-=\n",
            "Parabens aos competidores! Terminamos em um Empate!!!\n"
          ]
        }
      ]
    }
  ]
}