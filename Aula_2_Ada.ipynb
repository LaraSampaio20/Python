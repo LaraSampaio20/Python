{
  "nbformat": 4,
  "nbformat_minor": 0,
  "metadata": {
    "colab": {
      "provenance": [],
      "authorship_tag": "ABX9TyNywre4vzIPJXOV4ss327uR",
      "include_colab_link": true
    },
    "kernelspec": {
      "name": "python3",
      "display_name": "Python 3"
    },
    "language_info": {
      "name": "python"
    }
  },
  "cells": [
    {
      "cell_type": "markdown",
      "metadata": {
        "id": "view-in-github",
        "colab_type": "text"
      },
      "source": [
        "<a href=\"https://colab.research.google.com/github/LaraSampaio20/Python/blob/main/Aula_2_Ada.ipynb\" target=\"_parent\"><img src=\"https://colab.research.google.com/assets/colab-badge.svg\" alt=\"Open In Colab\"/></a>"
      ]
    },
    {
      "cell_type": "markdown",
      "source": [
        "### ***Condicionais***"
      ],
      "metadata": {
        "id": "A0tR8RpVMlqg"
      }
    },
    {
      "cell_type": "code",
      "execution_count": null,
      "metadata": {
        "colab": {
          "base_uri": "https://localhost:8080/"
        },
        "id": "ZPtWp9jLMfc_",
        "outputId": "161384aa-a08e-44d5-f34a-57e77f549139"
      },
      "outputs": [
        {
          "output_type": "stream",
          "name": "stdout",
          "text": [
            "Digite sua idade: 15\n",
            "ATENÇÃO!!! Você não pode dirigir.\n"
          ]
        }
      ],
      "source": [
        "#TESTE 1\n",
        "idade = int(input(\"Digite sua idade: \"))\n",
        "\n",
        "if idade >= 18:\n",
        "  print(\"Você pode dirigir!\")\n",
        "else:\n",
        "  print(\"ATENÇÃO!!! Você não pode dirigir.\")"
      ]
    },
    {
      "cell_type": "code",
      "source": [
        "#TESTE 2\n",
        "\n",
        "livro1 = float(input(\"Valor livro 1: \"))\n",
        "livro2 = float(input(\"Valor livro 2: \"))\n",
        "\n",
        "if livro1 == livro2:\n",
        "  print(\"Os valores são iguais\")\n",
        "elif livro1 > livro2:\n",
        "  print(\"O livro 1 é o mais caro\")\n",
        "else:\n",
        "  print(\"O livro 2 é o mais caro\")"
      ],
      "metadata": {
        "id": "r00fMzxMNxKO"
      },
      "execution_count": null,
      "outputs": []
    },
    {
      "cell_type": "markdown",
      "source": [
        "## Sistema de idade em um parque"
      ],
      "metadata": {
        "id": "ihFfTSaabVfC"
      }
    },
    {
      "cell_type": "code",
      "source": [
        "#EXERCICIO 1\n",
        "\n",
        "print('OLÁ!! Seja bem vindo ao nosso parque.')\n",
        "\n",
        "idade = int(input('Por gentileza, qual a sua idade? '))\n",
        "\n",
        "if idade <= 59 and idade != 1 and idade != 2 and idade != 3 and idade != 4 and idade :\n",
        "  print(\"O valor do ingresso é R$70,00 reais\")\n",
        "elif idade < 5:\n",
        "  print(\"Valor dela é insento, pois ela possui menos do que 5 anos.\")\n",
        "else:\n",
        "  print('Você possui um desconto de 50%, o valor do ingresso fica R$35,00 reais.')"
      ],
      "metadata": {
        "colab": {
          "base_uri": "https://localhost:8080/"
        },
        "id": "5nutJAcKOyrt",
        "outputId": "3488cefe-4e53-4967-a94c-5e2f72dd9c8b"
      },
      "execution_count": null,
      "outputs": [
        {
          "output_type": "stream",
          "name": "stdout",
          "text": [
            "OLÁ!! Seja bem vindo ao nosso parque.\n",
            "Por gentileza, qual a sua idade?2\n",
            "Valor dela é insento, pois ela possui menos do que 5 anos.\n"
          ]
        }
      ]
    },
    {
      "cell_type": "code",
      "source": [
        "#TESTE 3\n",
        "idade = int(input(\"Digite sua idade: \"))\n",
        "\n",
        "if idade >= 18:\n",
        "  print(\"Você pode dirigir e votar!\")\n",
        "elif idade >= 16:\n",
        "  print('Você pode votar e e não pode dirigir')\n",
        "else:\n",
        "  print(\"ATENÇÃO!!! Você não pode dirigir e nem votar.\")"
      ],
      "metadata": {
        "colab": {
          "base_uri": "https://localhost:8080/"
        },
        "id": "K6lYky1IPUUh",
        "outputId": "7732f058-14e8-44ff-f010-a492115d3a70"
      },
      "execution_count": null,
      "outputs": [
        {
          "output_type": "stream",
          "name": "stdout",
          "text": [
            "Digite sua idade: 16\n",
            "Você não pode votar e pode dirigir\n"
          ]
        }
      ]
    },
    {
      "cell_type": "markdown",
      "source": [
        "## Sistema  de classificar um numero par ou **impar**"
      ],
      "metadata": {
        "id": "k3iJoZXdbe5H"
      }
    },
    {
      "cell_type": "code",
      "source": [
        "num = int(input('Digite o numero desejado aqui: '))\n",
        "\n",
        "if  num %2 == 0 and num > 100:\n",
        "  print(\"Esse numero é par e maior que 100\")\n",
        "elif num %2 == 0 and num < 100:\n",
        "  print(\"Esse numero é par e menor que 100\")\n",
        "elif num %2 != 0 and num < 100:\n",
        "  print(\"Esse numero é impar e menor que 100\")\n",
        "elif num %2 != 0 and num > 100:\n",
        "  print(\"Esse numero é impar e maior que 100\")\n"
      ],
      "metadata": {
        "colab": {
          "base_uri": "https://localhost:8080/"
        },
        "id": "ONBFM_kUbnx3",
        "outputId": "fb9cfbbb-1d2d-4219-ccab-fc1fe666ded9"
      },
      "execution_count": null,
      "outputs": [
        {
          "output_type": "stream",
          "name": "stdout",
          "text": [
            "Digite o numero desejado aqui: 105\n",
            "Esse numero é impar e maior que 100\n"
          ]
        }
      ]
    },
    {
      "cell_type": "markdown",
      "source": [
        "\n",
        "## Sistema que recebe 3 notas iniciais e retorne a nota final\n",
        "\n",
        "\n"
      ],
      "metadata": {
        "id": "6a7k2kcZkEC0"
      }
    },
    {
      "cell_type": "code",
      "source": [
        "nome = str(input(\"Qual o seu nome? \"))\n",
        "nota1 = float(input('Insira a nota 1: '))\n",
        "nota2 = float(input('Insira a nota 2: '))\n",
        "nota3 = float(input('Insira a nota 3: '))\n",
        "\n",
        "nota_final = (nota1 + nota2 + nota3)/3\n",
        "if nota_final > 9:\n",
        "  print(f\"Parabéns {nome}! Sua nota é {nota_final:.2f},portanto o seu conceito é: A\")\n",
        "\n",
        "elif nota_final > 7:\n",
        "  print(f\"Parabéns {nome}! Sua nota é {nota_final:.2f},portanto o seu conceito é: B\")\n",
        "\n",
        "else:\n",
        "  print(f\"ATENÇÃO!!! {nome},sua nota é {nota_final:.2f},portanto o seu conceito é: C.\")"
      ],
      "metadata": {
        "colab": {
          "base_uri": "https://localhost:8080/"
        },
        "id": "x7RoSH78kDZs",
        "outputId": "4619f98d-3d85-4287-94ac-e81c62165c89"
      },
      "execution_count": null,
      "outputs": [
        {
          "output_type": "stream",
          "name": "stdout",
          "text": [
            "Qual o seu nome? Lara\n",
            "Insira a nota 1: 1\n",
            "Insira a nota 2: 6\n",
            "Insira a nota 3: 8\n",
            "ATENÇÃO!!! Lara,sua nota é 5.00,portanto o seu conceito é: C.\n"
          ]
        }
      ]
    },
    {
      "cell_type": "markdown",
      "source": [
        "## ***DESAFIOS EM AULA***"
      ],
      "metadata": {
        "id": "jK07r3eOXsu7"
      }
    },
    {
      "cell_type": "code",
      "source": [
        "# Faça um programa que receba um numero e retorne se ele é positivo ou negativo\n",
        "\n",
        "num = int(input('Digite um numero:'))\n",
        "\n",
        "if num >= 0:\n",
        "  print('Esse numero é positivo')\n",
        "else:\n",
        "  print('Esse numero é negativo')"
      ],
      "metadata": {
        "colab": {
          "base_uri": "https://localhost:8080/"
        },
        "id": "6mLyiMSRXw-Z",
        "outputId": "4a5b6f57-ef62-4bdf-d5de-cd9cbf34a275"
      },
      "execution_count": null,
      "outputs": [
        {
          "output_type": "stream",
          "name": "stdout",
          "text": [
            "Digite um numero:-2\n",
            "Esse numero é negativo\n"
          ]
        }
      ]
    },
    {
      "cell_type": "code",
      "source": [
        "# Faça um programa que leia um numero e exiba o dia correspondente da semana.\n",
        "\n",
        "\n",
        "\n",
        "dias = int(input('Digite o dia da semana que deseja: '))\n",
        "\n",
        "if dias == 0:\n",
        "  print(\"Domingo\")\n",
        "\n",
        "elif dias == 1:\n",
        "  print(\"Segunda Feira\")\n",
        "elif dias == 2:\n",
        "  print(\"Terça Feira\")\n",
        "elif dias == 3:\n",
        "  print(\"Quarta Feira\")\n",
        "elif dias == 4:\n",
        "  print(\"QuintaFeira\")\n",
        "elif dias == 5:\n",
        "  print(\"Sexta Feira\")\n",
        "elif dias == 6:\n",
        "  print(\"Sabado\")\n"
      ],
      "metadata": {
        "colab": {
          "base_uri": "https://localhost:8080/"
        },
        "id": "FT3PSntwYEze",
        "outputId": "ef10af6b-eb83-4f63-b585-0f77d8802ef2"
      },
      "execution_count": null,
      "outputs": [
        {
          "output_type": "stream",
          "name": "stdout",
          "text": [
            "Digite o dia da semana que deseja: 2\n",
            "Terça Feira\n"
          ]
        }
      ]
    },
    {
      "cell_type": "code",
      "source": [
        "# Faça um programa que recebe um número inteiro de entrada e retorna se ele é par ou impar\n",
        "\n",
        "num = int(input('Digite um numero aqui: '))\n",
        "\n",
        "if num %2 == 0:\n",
        "  print('Esse numero é par')\n",
        "else:\n",
        "  print('Esse numero é impar')"
      ],
      "metadata": {
        "colab": {
          "base_uri": "https://localhost:8080/"
        },
        "id": "m9KxSemwc3t-",
        "outputId": "4d993584-7e1f-4b72-e337-79864e3a2436"
      },
      "execution_count": null,
      "outputs": [
        {
          "output_type": "stream",
          "name": "stdout",
          "text": [
            "Digite um numero aqui: 5\n",
            "Esse numero é impar\n"
          ]
        }
      ]
    },
    {
      "cell_type": "code",
      "source": [
        "# Faça um programa que recebe 2 numero e retorna o maior deles\n",
        "num1 = float(input('Digite um numero aqui: '))\n",
        "num2 = float(input('Digite um numero aqui: '))\n",
        "\n",
        "if num1 > num2:\n",
        "  print('Numero 1 é maior ue o numero 2')\n",
        "elif num2 > num1:\n",
        "  print('Numero 2 é maior que o numero 1')\n",
        "else:\n",
        "  print('Os dois numero são iguais')"
      ],
      "metadata": {
        "colab": {
          "base_uri": "https://localhost:8080/"
        },
        "id": "T0PkWASzdnZr",
        "outputId": "4c50ef7b-5014-4d6e-8a30-e007991200f4"
      },
      "execution_count": null,
      "outputs": [
        {
          "output_type": "stream",
          "name": "stdout",
          "text": [
            "Digite um numero aqui: 1\n",
            "Digite um numero aqui: 6\n",
            "Numero 2 é maior que o numero 1\n"
          ]
        }
      ]
    },
    {
      "cell_type": "code",
      "source": [
        "# Faça um programa que recebe uma idade e determine se o usuário é idoso(60>),  adulto(18>), adolescente (12>=) ou criança (<12)\n",
        "\n",
        "\n",
        "idade = int(input('Qual a sua idade?'))\n",
        "\n",
        "if idade >60:\n",
        "  print('Vocẽ é idoso')\n",
        "elif idade > 18:\n",
        "  print('Você é adulto')\n",
        "elif idade >= 12:\n",
        "  print('Vocẽ é adolescente')\n",
        "else:\n",
        "  print('Vocẽ é criança')\n"
      ],
      "metadata": {
        "colab": {
          "base_uri": "https://localhost:8080/"
        },
        "id": "nTRLmDXKeP0a",
        "outputId": "66cd34e8-b347-46b2-b93a-9a8aeb31f592"
      },
      "execution_count": null,
      "outputs": [
        {
          "output_type": "stream",
          "name": "stdout",
          "text": [
            "Qual a sua idade?19\n",
            "Você é adulto\n"
          ]
        }
      ]
    },
    {
      "cell_type": "code",
      "source": [
        "# Faça um programa que receba 5 numeros inteiros e exiba qual é o maoir deles\n",
        "\n",
        "num1 = int(input('Numero 1: '))\n",
        "num2 = int(input('Numero 2: '))\n",
        "num3 = int(input('Numero 3: '))\n",
        "num4 = int(input('Numero 4: '))\n",
        "num5 = int(input('Numero 5: '))\n",
        "\n",
        "if (num1 > num2 and num1 > num3 and num1 > num4 and num1 > num5):\n",
        "  print(f\"O {num1} é o numero maior\")\n",
        "\n",
        "elif(num2 > num1 and num2 > num3 and num2 > num4 and num2 > num5):\n",
        "  print(f\"O {num2} é o o numero maior\")\n",
        "\n",
        "elif (num3 > num1 and num3 > num2 and num3 > num4 and num3 > num5):\n",
        "  print(f\"O {num3} é o o numero maior\")\n",
        "\n",
        "elif (num4 > num1 and num4 > num2 and num4 > num3 and num4 > num5):\n",
        "  print(f\"O {num4} é o o numero maior\")\n",
        "\n",
        "elif (num5 > num1 and num5 > num2 and num5 > num3 and num5 > num4):\n",
        "  print(f\"O {num5} é o o numero maior\")\n",
        "\n"
      ],
      "metadata": {
        "id": "5-a1uNqifhqd",
        "colab": {
          "base_uri": "https://localhost:8080/"
        },
        "outputId": "a9d5c6fc-a9bb-404e-c5e7-d343c17f02a2"
      },
      "execution_count": null,
      "outputs": [
        {
          "output_type": "stream",
          "name": "stdout",
          "text": [
            "Numero 1: 5\n",
            "Numero 2: 6\n",
            "Numero 3: 8\n",
            "Numero 4: 2\n",
            "Numero 5: 1\n",
            "O 8 é o o numero maior\n"
          ]
        }
      ]
    },
    {
      "cell_type": "code",
      "source": [
        "# # Faça um programa que recebe três notas de quatro alunas e retorna a média\n",
        "# e o conceito delas. O algoritmo também deve perguntar o nome de cada uma.\n",
        "# Exemplos: nota >= 8,5 = A\n",
        "# nota >= 7,5 = B\n",
        "# nota >= 4,5 = C\n",
        "# nota < 4,5 = D\"\"\"\n",
        "\n",
        "nome = str(input(\"Qual o seu nome? \"))\n",
        "nome2 = str(input(\"Qual o seu nome? \"))\n",
        "nome3 = str(input(\"Qual o seu nome? \"))\n",
        "nome4 = str(input(\"Qual o seu nome? \"))\n",
        "nota1 = float(input('Insira a nota 1: '))\n",
        "nota2 = float(input('Insira a nota 2: '))\n",
        "nota3 = float(input('Insira a nota 3: '))\n",
        "\n",
        "nota_final = (nota1 + nota2 + nota3)/3\n",
        "if nota_final >= 8.5:\n",
        "  print(f\"Parabéns {nome}, {nome2},{nome3}, {nome2}! Sua nota é {nota_final:.2f},portanto o seu conceito é: A\")\n",
        "\n",
        "elif nota_final >= 7.5:\n",
        "  print(f\"Parabéns {nome}! Sua nota é {nota_final:.2f},portanto o seu conceito é: B\")\n",
        "\n",
        "elif nota_final < 4.5:\n",
        "  print(f\"ATENÇÃO!!! {nome},sua nota é {nota_final:.2f},portanto o seu conceito é: C.\")\n",
        "\n",
        "else:\n",
        "  print(f\"ATENÇÃO!!! {nome},sua nota é {nota_final:.2f},portanto o seu conceito é: D.\")"
      ],
      "metadata": {
        "id": "82uBqPnPIdOV"
      },
      "execution_count": null,
      "outputs": []
    }
  ]
}