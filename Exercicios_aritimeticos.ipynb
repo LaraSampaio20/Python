{
  "nbformat": 4,
  "nbformat_minor": 0,
  "metadata": {
    "colab": {
      "provenance": [],
      "authorship_tag": "ABX9TyN2O8RLsH/ONjVxhsAZzRKv",
      "include_colab_link": true
    },
    "kernelspec": {
      "name": "python3",
      "display_name": "Python 3"
    },
    "language_info": {
      "name": "python"
    }
  },
  "cells": [
    {
      "cell_type": "markdown",
      "metadata": {
        "id": "view-in-github",
        "colab_type": "text"
      },
      "source": [
        "<a href=\"https://colab.research.google.com/github/LaraSampaio20/Python/blob/main/Exercicios_aritimeticos.ipynb\" target=\"_parent\"><img src=\"https://colab.research.google.com/assets/colab-badge.svg\" alt=\"Open In Colab\"/></a>"
      ]
    },
    {
      "cell_type": "markdown",
      "source": [
        "001 - Faça um programa em que ele leia  um numero inteiro e mostre o seu sucessor e o seu antecessor."
      ],
      "metadata": {
        "id": "8bqhgalQ3Z2j"
      }
    },
    {
      "cell_type": "code",
      "execution_count": 7,
      "metadata": {
        "id": "Qncvb50yx7lY",
        "colab": {
          "base_uri": "https://localhost:8080/"
        },
        "outputId": "3544c598-2415-46a4-dbf9-526bf073b83d"
      },
      "outputs": [
        {
          "output_type": "stream",
          "name": "stdout",
          "text": [
            "Digite o numero aqui: 50\n",
            "O numero escolhido é o 50, o seu sucessor é 51 e o seu antecessor é 49\n"
          ]
        }
      ],
      "source": [
        "numero = int(input('Digite o numero aqui: '))\n",
        "print(f'O numero escolhido é o {numero}, o seu sucessor é {numero + 1} e o seu antecessor é {numero - 1}')"
      ]
    },
    {
      "cell_type": "markdown",
      "source": [
        "002- Crie um algoritimo em que ele leia um numero e mostre:\n",
        "      \n",
        "\n",
        "*   Dobro\n",
        "*   Triplo\n",
        "*   Raiz quadrada\n",
        "\n"
      ],
      "metadata": {
        "id": "nO9obbnx30xq"
      }
    },
    {
      "cell_type": "code",
      "source": [
        "num = int(input(\"Digite um numero: \"))\n",
        "print(f'O numero escolhido foi {num}.O dobro dele é {num*2}, o triplo é { num*3} e sua raiz quadrada é {num**(1/2):.2f}')"
      ],
      "metadata": {
        "colab": {
          "base_uri": "https://localhost:8080/"
        },
        "id": "Dn6BuKHJ4Lo7",
        "outputId": "cce27820-01d0-4c41-e650-758e74c28a99"
      },
      "execution_count": 6,
      "outputs": [
        {
          "output_type": "stream",
          "name": "stdout",
          "text": [
            "Digite um numero: 65\n",
            "O numero escolhido foi 65.O dobro dele é 130, o triplo é 195 e sua raiz quadrada é 8.06\n"
          ]
        }
      ]
    },
    {
      "cell_type": "markdown",
      "source": [
        "003 - Escreva duas notas de duas alunas e traga a media delas"
      ],
      "metadata": {
        "id": "b6NqDJNu4TId"
      }
    },
    {
      "cell_type": "code",
      "source": [
        "nota1 = int(input('nota 1: '))\n",
        "nota2 = int(input('nota 2: '))\n",
        "print(f'Nota 1 foi de {nota1} e a nota nota 2 foi de {nota2}. Portanto a média é de {(nota1 + nota2)/2}')"
      ],
      "metadata": {
        "colab": {
          "base_uri": "https://localhost:8080/"
        },
        "id": "dEzfuGf34bUD",
        "outputId": "b9c0ece4-a45b-4a9c-8258-851f5714f6d0"
      },
      "execution_count": 8,
      "outputs": [
        {
          "output_type": "stream",
          "name": "stdout",
          "text": [
            "nota 1: 5\n",
            "nota 2: 10\n",
            "Nota 1 foi de 5 e a nota nota 2 foi de 10. Portanto a média é de 7.5\n"
          ]
        }
      ]
    },
    {
      "cell_type": "markdown",
      "source": [
        "004- Escreva um programa em que leia um numero em metros e retorne em centimetros e milimetros."
      ],
      "metadata": {
        "id": "6NUQcG4r4byy"
      }
    },
    {
      "cell_type": "code",
      "source": [
        "metro = int(input('Qual o metro? '))\n",
        "print(f'O metro é de {metro}, em centimetros é de {metro*100} e em milimetro é de {(metro*100)*10}')"
      ],
      "metadata": {
        "colab": {
          "base_uri": "https://localhost:8080/"
        },
        "id": "b_89jC5N4nMZ",
        "outputId": "1701308c-65e4-47d2-9e52-4b3b367cdc31"
      },
      "execution_count": 10,
      "outputs": [
        {
          "output_type": "stream",
          "name": "stdout",
          "text": [
            "Qual o metro? 50\n",
            "O metro é de 50, em centimetros é de 5000 e em milimetro é de 50000\n"
          ]
        }
      ]
    },
    {
      "cell_type": "markdown",
      "source": [
        "005 - Faça um programa que leia um numero inteiro na tela e mostre a sua tabuada."
      ],
      "metadata": {
        "id": "GTVtEGfQ_CtE"
      }
    },
    {
      "cell_type": "code",
      "source": [
        "num = int(input('Escolha um numero:'))\n",
        "for i in range(0+11):\n",
        "  print(f'A tabuada do numero {num} é: {num} x {i} =')\n",
        "\n"
      ],
      "metadata": {
        "colab": {
          "base_uri": "https://localhost:8080/"
        },
        "id": "rTU2yg5r_bQd",
        "outputId": "438b3bcb-e8be-4219-8357-386139ee3494"
      },
      "execution_count": 13,
      "outputs": [
        {
          "output_type": "stream",
          "name": "stdout",
          "text": [
            "Escolha um numero:3\n",
            "A tabuada do numero 3 é: 3 x 0 =\n",
            "A tabuada do numero 3 é: 3 x 1 =\n",
            "A tabuada do numero 3 é: 3 x 2 =\n",
            "A tabuada do numero 3 é: 3 x 3 =\n",
            "A tabuada do numero 3 é: 3 x 4 =\n",
            "A tabuada do numero 3 é: 3 x 5 =\n",
            "A tabuada do numero 3 é: 3 x 6 =\n",
            "A tabuada do numero 3 é: 3 x 7 =\n",
            "A tabuada do numero 3 é: 3 x 8 =\n",
            "A tabuada do numero 3 é: 3 x 9 =\n",
            "A tabuada do numero 3 é: 3 x 10 =\n"
          ]
        }
      ]
    },
    {
      "cell_type": "markdown",
      "source": [
        "006 - Crie um programa que leia quanto de dinehiro a pessoa tem e mostre na tela quantos dolares ela pode comprar.\n",
        "* Us$ 1,00 = 3,27"
      ],
      "metadata": {
        "id": "eD8FyAiO_bv5"
      }
    },
    {
      "cell_type": "code",
      "source": [
        "carteira = int(input('Quanto possui na carteira?'))\n",
        "print(f'Tenho na carteira {carteira} e posso comprar {carteira / 3.27:.2f} dolares')"
      ],
      "metadata": {
        "colab": {
          "base_uri": "https://localhost:8080/"
        },
        "id": "BvO8u7Lk_2S-",
        "outputId": "989ccf7f-5dd7-44c2-bed0-d341abc2b07a"
      },
      "execution_count": 16,
      "outputs": [
        {
          "output_type": "stream",
          "name": "stdout",
          "text": [
            "Quanto possui na carteira?5000\n",
            "Tenho na carteira 5000 e posso comprar 1529.05\n"
          ]
        }
      ]
    },
    {
      "cell_type": "markdown",
      "source": [
        "007 - Faça um programa que mostre na tela a largura e a altura de uma parede em metros. Calcule sua área  e a quantidade de tinta necessária para pinta la, sabendo que cada litro de tinta pinta uma area de 2m"
      ],
      "metadata": {
        "id": "e9EgGNNJ_3FY"
      }
    },
    {
      "cell_type": "code",
      "source": [],
      "metadata": {
        "id": "mA2w9R70Aap4"
      },
      "execution_count": null,
      "outputs": []
    },
    {
      "cell_type": "markdown",
      "source": [
        "008 -Faça um algoritimo que mostre o preço de um produto e mostre o seu novo preço com 5% de desconto."
      ],
      "metadata": {
        "id": "FuKFGzaXAbK-"
      }
    },
    {
      "cell_type": "code",
      "source": [],
      "metadata": {
        "id": "Y0dNVwOfAsM4"
      },
      "execution_count": null,
      "outputs": []
    },
    {
      "cell_type": "markdown",
      "source": [
        "009 - Faça um algoritimo que mostre o salario de um funcionário e mostre o seu novo salario com 15% de aumento."
      ],
      "metadata": {
        "id": "w48YLsLkAsk1"
      }
    },
    {
      "cell_type": "code",
      "source": [],
      "metadata": {
        "id": "ap9My8fqA7D8"
      },
      "execution_count": null,
      "outputs": []
    }
  ]
}