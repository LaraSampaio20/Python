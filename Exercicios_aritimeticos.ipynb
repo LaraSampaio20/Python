{
  "nbformat": 4,
  "nbformat_minor": 0,
  "metadata": {
    "colab": {
      "provenance": [],
      "authorship_tag": "ABX9TyN5Onx/vRSsnd9E4TCqh2/x",
      "include_colab_link": true
    },
    "kernelspec": {
      "name": "python3",
      "display_name": "Python 3"
    },
    "language_info": {
      "name": "python"
    }
  },
  "cells": [
    {
      "cell_type": "markdown",
      "metadata": {
        "id": "view-in-github",
        "colab_type": "text"
      },
      "source": [
        "<a href=\"https://colab.research.google.com/github/LaraSampaio20/Python/blob/main/Exercicios_aritimeticos.ipynb\" target=\"_parent\"><img src=\"https://colab.research.google.com/assets/colab-badge.svg\" alt=\"Open In Colab\"/></a>"
      ]
    },
    {
      "cell_type": "markdown",
      "source": [
        "001 - Faça um programa em que ele leia  um numero inteiro e mostre o seu sucessor e o seu antecessor."
      ],
      "metadata": {
        "id": "8bqhgalQ3Z2j"
      }
    },
    {
      "cell_type": "code",
      "execution_count": null,
      "metadata": {
        "id": "Qncvb50yx7lY",
        "colab": {
          "base_uri": "https://localhost:8080/"
        },
        "outputId": "3544c598-2415-46a4-dbf9-526bf073b83d"
      },
      "outputs": [
        {
          "output_type": "stream",
          "name": "stdout",
          "text": [
            "Digite o numero aqui: 50\n",
            "O numero escolhido é o 50, o seu sucessor é 51 e o seu antecessor é 49\n"
          ]
        }
      ],
      "source": [
        "numero = int(input('Digite o numero aqui: '))\n",
        "print(f'O numero escolhido é o {numero}, o seu sucessor é {numero + 1} e o seu antecessor é {numero - 1}')"
      ]
    },
    {
      "cell_type": "markdown",
      "source": [
        "002- Crie um algoritimo em que ele leia um numero e mostre:\n",
        "      \n",
        "\n",
        "*   Dobro\n",
        "*   Triplo\n",
        "*   Raiz quadrada\n",
        "\n"
      ],
      "metadata": {
        "id": "nO9obbnx30xq"
      }
    },
    {
      "cell_type": "code",
      "source": [
        "num = int(input(\"Digite um numero: \"))\n",
        "print(f'O numero escolhido foi {num}.O dobro dele é {num*2}, o triplo é { num*3} e sua raiz quadrada é {num**(1/2):.2f}')"
      ],
      "metadata": {
        "colab": {
          "base_uri": "https://localhost:8080/"
        },
        "id": "Dn6BuKHJ4Lo7",
        "outputId": "cce27820-01d0-4c41-e650-758e74c28a99"
      },
      "execution_count": null,
      "outputs": [
        {
          "output_type": "stream",
          "name": "stdout",
          "text": [
            "Digite um numero: 65\n",
            "O numero escolhido foi 65.O dobro dele é 130, o triplo é 195 e sua raiz quadrada é 8.06\n"
          ]
        }
      ]
    },
    {
      "cell_type": "markdown",
      "source": [
        "003 - Escreva duas notas de duas alunas e traga a media delas"
      ],
      "metadata": {
        "id": "b6NqDJNu4TId"
      }
    },
    {
      "cell_type": "code",
      "source": [
        "nota1 = int(input('nota 1: '))\n",
        "nota2 = int(input('nota 2: '))\n",
        "print(f'Nota 1 foi de {nota1} e a nota nota 2 foi de {nota2}. Portanto a média é de {(nota1 + nota2)/2}')"
      ],
      "metadata": {
        "colab": {
          "base_uri": "https://localhost:8080/"
        },
        "id": "dEzfuGf34bUD",
        "outputId": "b9c0ece4-a45b-4a9c-8258-851f5714f6d0"
      },
      "execution_count": null,
      "outputs": [
        {
          "output_type": "stream",
          "name": "stdout",
          "text": [
            "nota 1: 5\n",
            "nota 2: 10\n",
            "Nota 1 foi de 5 e a nota nota 2 foi de 10. Portanto a média é de 7.5\n"
          ]
        }
      ]
    },
    {
      "cell_type": "markdown",
      "source": [
        "004- Escreva um programa em que leia um numero em metros e retorne em centimetros e milimetros."
      ],
      "metadata": {
        "id": "6NUQcG4r4byy"
      }
    },
    {
      "cell_type": "code",
      "source": [
        "metro = int(input('Qual o metro? '))\n",
        "print(f'O metro é de {metro}, em centimetros é de {metro*100} e em milimetro é de {(metro*100)*10}')"
      ],
      "metadata": {
        "colab": {
          "base_uri": "https://localhost:8080/"
        },
        "id": "b_89jC5N4nMZ",
        "outputId": "1701308c-65e4-47d2-9e52-4b3b367cdc31"
      },
      "execution_count": null,
      "outputs": [
        {
          "output_type": "stream",
          "name": "stdout",
          "text": [
            "Qual o metro? 50\n",
            "O metro é de 50, em centimetros é de 5000 e em milimetro é de 50000\n"
          ]
        }
      ]
    },
    {
      "cell_type": "markdown",
      "source": [
        "005 - Faça um programa que leia um numero inteiro na tela e mostre a sua tabuada."
      ],
      "metadata": {
        "id": "GTVtEGfQ_CtE"
      }
    },
    {
      "cell_type": "code",
      "source": [
        "num = int(input('Escolha um numero:'))\n",
        "for i in range(0+11):\n",
        "  print(f'A tabuada do numero {num} é: {num} x {i} = ')\n",
        "\n"
      ],
      "metadata": {
        "colab": {
          "base_uri": "https://localhost:8080/",
          "height": 339
        },
        "id": "rTU2yg5r_bQd",
        "outputId": "2508f10b-ed90-4b57-b6aa-78f76a69646e"
      },
      "execution_count": null,
      "outputs": [
        {
          "output_type": "error",
          "ename": "KeyboardInterrupt",
          "evalue": "Interrupted by user",
          "traceback": [
            "\u001b[0;31m---------------------------------------------------------------------------\u001b[0m",
            "\u001b[0;31mKeyboardInterrupt\u001b[0m                         Traceback (most recent call last)",
            "\u001b[0;32m/tmp/ipython-input-2573048894.py\u001b[0m in \u001b[0;36m<cell line: 0>\u001b[0;34m()\u001b[0m\n\u001b[0;32m----> 1\u001b[0;31m \u001b[0mnum\u001b[0m \u001b[0;34m=\u001b[0m \u001b[0mint\u001b[0m\u001b[0;34m(\u001b[0m\u001b[0minput\u001b[0m\u001b[0;34m(\u001b[0m\u001b[0;34m'Escolha um numero:'\u001b[0m\u001b[0;34m)\u001b[0m\u001b[0;34m)\u001b[0m\u001b[0;34m\u001b[0m\u001b[0;34m\u001b[0m\u001b[0m\n\u001b[0m\u001b[1;32m      2\u001b[0m \u001b[0;32mfor\u001b[0m \u001b[0mi\u001b[0m \u001b[0;32min\u001b[0m \u001b[0mrange\u001b[0m\u001b[0;34m(\u001b[0m\u001b[0;36m0\u001b[0m\u001b[0;34m+\u001b[0m\u001b[0;36m11\u001b[0m\u001b[0;34m)\u001b[0m\u001b[0;34m:\u001b[0m\u001b[0;34m\u001b[0m\u001b[0;34m\u001b[0m\u001b[0m\n\u001b[1;32m      3\u001b[0m   \u001b[0mprint\u001b[0m\u001b[0;34m(\u001b[0m\u001b[0;34mf'A tabuada do numero {num} é: {num} x {i} = '\u001b[0m\u001b[0;34m)\u001b[0m\u001b[0;34m\u001b[0m\u001b[0;34m\u001b[0m\u001b[0m\n\u001b[1;32m      4\u001b[0m \u001b[0;34m\u001b[0m\u001b[0m\n",
            "\u001b[0;32m/usr/local/lib/python3.12/dist-packages/ipykernel/kernelbase.py\u001b[0m in \u001b[0;36mraw_input\u001b[0;34m(self, prompt)\u001b[0m\n\u001b[1;32m   1175\u001b[0m                 \u001b[0;34m\"raw_input was called, but this frontend does not support input requests.\"\u001b[0m\u001b[0;34m\u001b[0m\u001b[0;34m\u001b[0m\u001b[0m\n\u001b[1;32m   1176\u001b[0m             )\n\u001b[0;32m-> 1177\u001b[0;31m         return self._input_request(\n\u001b[0m\u001b[1;32m   1178\u001b[0m             \u001b[0mstr\u001b[0m\u001b[0;34m(\u001b[0m\u001b[0mprompt\u001b[0m\u001b[0;34m)\u001b[0m\u001b[0;34m,\u001b[0m\u001b[0;34m\u001b[0m\u001b[0;34m\u001b[0m\u001b[0m\n\u001b[1;32m   1179\u001b[0m             \u001b[0mself\u001b[0m\u001b[0;34m.\u001b[0m\u001b[0m_parent_ident\u001b[0m\u001b[0;34m[\u001b[0m\u001b[0;34m\"shell\"\u001b[0m\u001b[0;34m]\u001b[0m\u001b[0;34m,\u001b[0m\u001b[0;34m\u001b[0m\u001b[0;34m\u001b[0m\u001b[0m\n",
            "\u001b[0;32m/usr/local/lib/python3.12/dist-packages/ipykernel/kernelbase.py\u001b[0m in \u001b[0;36m_input_request\u001b[0;34m(self, prompt, ident, parent, password)\u001b[0m\n\u001b[1;32m   1217\u001b[0m             \u001b[0;32mexcept\u001b[0m \u001b[0mKeyboardInterrupt\u001b[0m\u001b[0;34m:\u001b[0m\u001b[0;34m\u001b[0m\u001b[0;34m\u001b[0m\u001b[0m\n\u001b[1;32m   1218\u001b[0m                 \u001b[0;31m# re-raise KeyboardInterrupt, to truncate traceback\u001b[0m\u001b[0;34m\u001b[0m\u001b[0;34m\u001b[0m\u001b[0m\n\u001b[0;32m-> 1219\u001b[0;31m                 \u001b[0;32mraise\u001b[0m \u001b[0mKeyboardInterrupt\u001b[0m\u001b[0;34m(\u001b[0m\u001b[0;34m\"Interrupted by user\"\u001b[0m\u001b[0;34m)\u001b[0m \u001b[0;32mfrom\u001b[0m \u001b[0;32mNone\u001b[0m\u001b[0;34m\u001b[0m\u001b[0;34m\u001b[0m\u001b[0m\n\u001b[0m\u001b[1;32m   1220\u001b[0m             \u001b[0;32mexcept\u001b[0m \u001b[0mException\u001b[0m\u001b[0;34m:\u001b[0m\u001b[0;34m\u001b[0m\u001b[0;34m\u001b[0m\u001b[0m\n\u001b[1;32m   1221\u001b[0m                 \u001b[0mself\u001b[0m\u001b[0;34m.\u001b[0m\u001b[0mlog\u001b[0m\u001b[0;34m.\u001b[0m\u001b[0mwarning\u001b[0m\u001b[0;34m(\u001b[0m\u001b[0;34m\"Invalid Message:\"\u001b[0m\u001b[0;34m,\u001b[0m \u001b[0mexc_info\u001b[0m\u001b[0;34m=\u001b[0m\u001b[0;32mTrue\u001b[0m\u001b[0;34m)\u001b[0m\u001b[0;34m\u001b[0m\u001b[0;34m\u001b[0m\u001b[0m\n",
            "\u001b[0;31mKeyboardInterrupt\u001b[0m: Interrupted by user"
          ]
        }
      ]
    },
    {
      "cell_type": "markdown",
      "source": [
        "006 - Crie um programa que leia quanto de dinehiro a pessoa tem e mostre na tela quantos dolares ela pode comprar.\n",
        "* Us$ 1,00 = 3,27"
      ],
      "metadata": {
        "id": "eD8FyAiO_bv5"
      }
    },
    {
      "cell_type": "code",
      "source": [
        "carteira = int(input('Quanto possui na carteira?'))\n",
        "print(f'Tenho na carteira {carteira} e posso comprar {carteira / 3.27:.2f} dolares')"
      ],
      "metadata": {
        "colab": {
          "base_uri": "https://localhost:8080/"
        },
        "id": "BvO8u7Lk_2S-",
        "outputId": "989ccf7f-5dd7-44c2-bed0-d341abc2b07a"
      },
      "execution_count": null,
      "outputs": [
        {
          "output_type": "stream",
          "name": "stdout",
          "text": [
            "Quanto possui na carteira?5000\n",
            "Tenho na carteira 5000 e posso comprar 1529.05\n"
          ]
        }
      ]
    },
    {
      "cell_type": "markdown",
      "source": [
        "007 - Faça um programa que mostre na tela a largura e a altura de uma parede em metros. Calcule sua área  e a quantidade de tinta necessária para pinta la, sabendo que cada litro de tinta pinta uma area de 2m"
      ],
      "metadata": {
        "id": "e9EgGNNJ_3FY"
      }
    },
    {
      "cell_type": "code",
      "source": [
        "altura = int(input('Qual a altura da parede? '))\n",
        "largura = int(input('Qual a largura da parede '))\n",
        "\n",
        "area = altura * largura\n",
        "\n",
        "T = area / 2\n",
        "\n",
        "print(f'A altura da paede é de {altura}M e sua largura é de {largura}M.\\nConsiderando sua area que é de {area}M, você irá precisaa de {T:.2f} litros de tinta para pintar.')"
      ],
      "metadata": {
        "id": "mA2w9R70Aap4",
        "outputId": "f896137f-2f23-41e8-ab00-ce068c833efc",
        "colab": {
          "base_uri": "https://localhost:8080/"
        }
      },
      "execution_count": null,
      "outputs": [
        {
          "output_type": "stream",
          "name": "stdout",
          "text": [
            "Qual a altura da parede? 3\n",
            "Qual a largura da parede 3\n",
            "A altura da paede é de 3M e sua largura é de 3M.\n",
            "Considerando sua area que é de 9M, você irá precisaa de 4.50 litros de tinta para pintar.\n"
          ]
        }
      ]
    },
    {
      "cell_type": "markdown",
      "source": [
        "008 -Faça um algoritimo que mostre o preço de um produto e mostre o seu novo preço com 5% de desconto."
      ],
      "metadata": {
        "id": "FuKFGzaXAbK-"
      }
    },
    {
      "cell_type": "code",
      "source": [
        "produto = int(input('Preço do produto: '))\n",
        "\n",
        "valor =  produto * 0.05\n",
        "\n",
        "preco_final = produto - valor\n",
        "print(f'O valor do seu produto é de {produto} reais e com 5% de desconto você irá pagar {preco_final} reais.')"
      ],
      "metadata": {
        "id": "Y0dNVwOfAsM4",
        "outputId": "c4108ef7-c632-4009-a0d6-c2ec4acb9b32",
        "colab": {
          "base_uri": "https://localhost:8080/"
        }
      },
      "execution_count": null,
      "outputs": [
        {
          "output_type": "stream",
          "name": "stdout",
          "text": [
            "Preço do produto: 250\n",
            "O valor do seu produto é de 250 reais e com 5% de desconto você irá pagar 237.5 reais.\n"
          ]
        }
      ]
    },
    {
      "cell_type": "markdown",
      "source": [
        "009 - Faça um algoritimo que mostre o salario de um funcionário e mostre o seu novo salario com 15% de aumento."
      ],
      "metadata": {
        "id": "w48YLsLkAsk1"
      }
    },
    {
      "cell_type": "code",
      "source": [
        "salario = int(input('Qual o salário de seu funcionário? '))\n",
        "\n",
        "aumento = salario * 0.15\n",
        "\n",
        "salario_final = salario + aumento\n",
        "print(f'Seu salário era de {salario:.2f} reais e com o aumento de 15% o seu novo salário é de {salario_final:.2f} reais!')"
      ],
      "metadata": {
        "id": "ap9My8fqA7D8",
        "outputId": "971087f4-77e3-412b-8868-d0b1fc10100e",
        "colab": {
          "base_uri": "https://localhost:8080/"
        }
      },
      "execution_count": null,
      "outputs": [
        {
          "output_type": "stream",
          "name": "stdout",
          "text": [
            "Qual o salário de seu funcionário? 1550\n",
            "Seu salário era de 1550.00 reais e com o aumento de 15% o seu novo salário é de 1782.50 reais!\n"
          ]
        }
      ]
    },
    {
      "cell_type": "markdown",
      "source": [
        "010 - Escreva um programa que converta uma temperatura digitando em graus Celsius e converta para graus Fahrenheit."
      ],
      "metadata": {
        "id": "IOl7-hm3D8hs"
      }
    },
    {
      "cell_type": "code",
      "source": [
        "c = float(input('Informe a temperatura em C: '))\n",
        "\n",
        "# Calculo para transformar Ceusius em Fahrenheit\n",
        "f = ((9 * c) /5) + 32\n",
        "\n",
        "print(f'Atemperatura em Celsius é de {c} e convertida em Fahrenheit é de {f}.')"
      ],
      "metadata": {
        "colab": {
          "base_uri": "https://localhost:8080/"
        },
        "id": "yxYIuFluEB0p",
        "outputId": "0abf6729-374f-4774-e409-d9565b3f73b5"
      },
      "execution_count": null,
      "outputs": [
        {
          "output_type": "stream",
          "name": "stdout",
          "text": [
            "Informe a temperatura em C: 32\n",
            "Atemperatura em Celsius é de 32.0 e convertida em Fahrenheit é de 89.6.\n"
          ]
        }
      ]
    },
    {
      "cell_type": "markdown",
      "source": [
        "011- Escreva um programa que pergunte a quantidade de Km percorridos por um carro alugado e a quantidade de dias pelos quais ele foi alugado. Calcule o preço a pagar, sabendo que:\n",
        "\n",
        " * O carro custa60 Reais por dia\n",
        " * 0,15 Centavos por Km rodado."
      ],
      "metadata": {
        "id": "042t_0TdFVr8"
      }
    },
    {
      "cell_type": "code",
      "source": [
        "km = float(input('Quantos Km você rodou com esse carro? '))\n",
        "aluguel = int(input('Por quantos dias você alugou? '))\n",
        "calc_dia = aluguel * 60\n",
        "calc_km = km * 0.15\n",
        "calc_final = calc_dia + calc_km\n",
        "\n",
        "print(f'Você rodou por {km} Km e alugou por {aluguel} dias. O total a pagar é de R${calc_final:.2f}')"
      ],
      "metadata": {
        "colab": {
          "base_uri": "https://localhost:8080/"
        },
        "id": "lCWAQeXaGU1e",
        "outputId": "919ffb1c-8f47-4dbb-d8a7-c53339e230ae"
      },
      "execution_count": null,
      "outputs": [
        {
          "output_type": "stream",
          "name": "stdout",
          "text": [
            "Quantos Km você rodou com esse carro? 30\n",
            "Por quantos dias você alugou? 15\n",
            "Você rodo por 30.0 Km e alugou por 15 dias. O total a pagar é de R$904.5\n"
          ]
        }
      ]
    },
    {
      "cell_type": "markdown",
      "source": [
        "012 - Crie um programa que leia um número Real qualquer pelo teclado e mostre na tela a sua porção Inteira."
      ],
      "metadata": {
        "id": "VPy2zCIjT3kx"
      }
    },
    {
      "cell_type": "code",
      "source": [
        "import math\n",
        "\n",
        "num = float(input('Digite um numero qualquer: '))\n",
        "\n",
        "print('O numero que você digitou é {} e sua parte inteira é {}'. format(num, math.trunc(num)))"
      ],
      "metadata": {
        "id": "YYZbdoHdT5sf",
        "colab": {
          "base_uri": "https://localhost:8080/"
        },
        "outputId": "27b378d9-c3b8-48e6-f94a-455d662af8f7"
      },
      "execution_count": null,
      "outputs": [
        {
          "output_type": "stream",
          "name": "stdout",
          "text": [
            "Digite um numero qualquer: 33.254856214\n",
            "O numero que você digitou é 33.254856214 e sua parte inteira é 33\n"
          ]
        }
      ]
    },
    {
      "cell_type": "markdown",
      "source": [
        "013-  Faça um programa que leia o comprimento do cateto oposto e do cateto adjacente de um triângulo retângulo. Calcule e mostre o comprimento da hipotenusa."
      ],
      "metadata": {
        "id": "s2DvVJScT6MP"
      }
    },
    {
      "cell_type": "code",
      "source": [
        "import math\n",
        "\n",
        "ca =  float(input('Qual o seu cumprimento? '))\n",
        "adj = float(input('Qual o seu cumprimento adj? '))\n",
        "\n",
        "s = pow(ca, 2) + pow(adj, 2)\n",
        "h = s**(1/2)\n",
        "\n",
        "print('O cumprimento do cateto oposto é de {} e o cumprimento do adjacente é de {}. O cumprimento da hipotenusa é {:.2f}'.format(ca, adj,h))"
      ],
      "metadata": {
        "id": "eV3hFY_FUF2h",
        "colab": {
          "base_uri": "https://localhost:8080/"
        },
        "outputId": "230125e9-798d-48ed-8aab-a78d84749309"
      },
      "execution_count": null,
      "outputs": [
        {
          "output_type": "stream",
          "name": "stdout",
          "text": [
            "Qual o seu cumprimento? 33\n",
            "Qual o seu cumprimento adj? 40\n",
            "O cumprimento do cateto oposto é de 33.0 e o cumprimento do adjacente é de 40.0. O cumprimento da hipotenusa é 51.86\n"
          ]
        }
      ]
    },
    {
      "cell_type": "markdown",
      "source": [
        "014 - Faça um programa que leia um ângulo qualquer e mostre na tela o valor do seno, cosseno e tangente desse ângulo."
      ],
      "metadata": {
        "id": "OELHni2GUFL_"
      }
    },
    {
      "cell_type": "code",
      "source": [
        "#import math\n",
        "\n",
        "ang = int(input('Digite um angulo: '))\n",
        "\n",
        "s = math.sin(ang)\n",
        "c = math.cos(ang)\n",
        "t = math.tan(ang)\n",
        "at = math.atan(ang)\n",
        "\n",
        "print('O ângulo digitado é de {}, portanto o seu seno é de {:.2}, seu cosseno é de {:.2f} e sua tangente é de {:.2f}, e seu arcotangente é {:.2f}'.format(ang, s, c, t, at))"
      ],
      "metadata": {
        "id": "MQhUNNMtUPNf",
        "colab": {
          "base_uri": "https://localhost:8080/"
        },
        "outputId": "527605ef-8405-40d1-bbfb-bcd8993134ed"
      },
      "execution_count": null,
      "outputs": [
        {
          "output_type": "stream",
          "name": "stdout",
          "text": [
            "Digite um angulo: 90\n",
            "O ângulo digitado é de 90, portanto o seu seno é de 0.89, seu cosseno é de -0.45 e sua tangente é de -2.00, e seu arcotangente é 1.56\n"
          ]
        }
      ]
    },
    {
      "cell_type": "markdown",
      "source": [
        "015- Um professor quer sortear um dos seus quatro alunos para apagar o quadro. Faça um programa que ajude ele, lendo o nome dos alunos e escrevendo na tela o nome do escolhido."
      ],
      "metadata": {
        "id": "Z46Hn0tOUPhZ"
      }
    },
    {
      "cell_type": "code",
      "source": [
        "import random\n",
        "\n",
        "professor = random.choice\n",
        "\n",
        "alunos = ['Anna', 'Lara', 'Pedro','Jeferson']\n",
        "\n",
        "\n",
        "\n",
        "print('Temos hoje para apagar o quadro: A Anna,a Lara, o Pedro e o Jeferson. E o escolhido é: {}!!!'.format(random.choice(alunos)))"
      ],
      "metadata": {
        "id": "naBsBoEdUWT9",
        "colab": {
          "base_uri": "https://localhost:8080/"
        },
        "outputId": "e2ea5f89-7147-4b36-e875-18d433d2a371"
      },
      "execution_count": null,
      "outputs": [
        {
          "output_type": "stream",
          "name": "stdout",
          "text": [
            "Temos hoje para apagar o quadro: A Anna,a Lara, o Pedro e o Jeferson. E o escolhido é: Lara !!!\n"
          ]
        }
      ]
    },
    {
      "cell_type": "markdown",
      "source": [
        "O mesmo professor do desafio aacima quer sortear a ordem de apresentação de trabalhos dos alunos. Faça um programa que leia o nome dos quatro alunos e mostre a ordem sorteada."
      ],
      "metadata": {
        "id": "x4jVACMhUWtm"
      }
    },
    {
      "cell_type": "code",
      "source": [
        "import random\n",
        "\n",
        "professor1 = random.sample\n",
        "\n",
        "alunos = ['Anna', 'Lara', 'Pedro','Jeferson']\n",
        "\n",
        "\n",
        "print('Hoje teremos a apresentação dos trabalhos e  ordem escolhida é: {}'.format(random.sample(alunos, k=4)))"
      ],
      "metadata": {
        "id": "gVux5AaKUdHb",
        "colab": {
          "base_uri": "https://localhost:8080/"
        },
        "outputId": "e1920f6a-d7f6-4321-da94-9038dd0bf5f4"
      },
      "execution_count": null,
      "outputs": [
        {
          "output_type": "stream",
          "name": "stdout",
          "text": [
            "Hoje teremos a apresentação dos trabalhos e  ordem escolhida é: ['Pedro', 'Jeferson', 'Anna', 'Lara']\n"
          ]
        }
      ]
    },
    {
      "cell_type": "markdown",
      "source": [
        "016- Faça um programa em Python que abra e reproduza o áudio de um arquivo MP3."
      ],
      "metadata": {
        "id": "vxMnY3r9UdgX"
      }
    },
    {
      "cell_type": "code",
      "source": [
        "%pip install pygame"
      ],
      "metadata": {
        "id": "yzwG_liLUkeB",
        "colab": {
          "base_uri": "https://localhost:8080/"
        },
        "outputId": "f116b932-4670-453b-b632-7cc6dac69d78"
      },
      "execution_count": null,
      "outputs": [
        {
          "output_type": "stream",
          "name": "stdout",
          "text": [
            "Requirement already satisfied: pygame in /usr/local/lib/python3.12/dist-packages (2.6.1)\n"
          ]
        }
      ]
    },
    {
      "cell_type": "code",
      "source": [
        "import pygame\n",
        "pygame.init()\n",
        "pygame.mixer.music.load('musica.mp3')\n",
        "pygame.mixer.music.play()\n",
        "pygame.event.wait()"
      ],
      "metadata": {
        "colab": {
          "base_uri": "https://localhost:8080/",
          "height": 223
        },
        "id": "Bauv9k5bFfi2",
        "outputId": "66a2c6da-f00c-470f-bbcf-24875bd3e1ab"
      },
      "execution_count": null,
      "outputs": [
        {
          "output_type": "error",
          "ename": "error",
          "evalue": "mixer not initialized",
          "traceback": [
            "\u001b[0;31m---------------------------------------------------------------------------\u001b[0m",
            "\u001b[0;31merror\u001b[0m                                     Traceback (most recent call last)",
            "\u001b[0;32m/tmp/ipython-input-2216207389.py\u001b[0m in \u001b[0;36m<cell line: 0>\u001b[0;34m()\u001b[0m\n\u001b[1;32m      1\u001b[0m \u001b[0;32mimport\u001b[0m \u001b[0mpygame\u001b[0m\u001b[0;34m\u001b[0m\u001b[0;34m\u001b[0m\u001b[0m\n\u001b[1;32m      2\u001b[0m \u001b[0mpygame\u001b[0m\u001b[0;34m.\u001b[0m\u001b[0minit\u001b[0m\u001b[0;34m(\u001b[0m\u001b[0;34m)\u001b[0m\u001b[0;34m\u001b[0m\u001b[0;34m\u001b[0m\u001b[0m\n\u001b[0;32m----> 3\u001b[0;31m \u001b[0mpygame\u001b[0m\u001b[0;34m.\u001b[0m\u001b[0mmixer\u001b[0m\u001b[0;34m.\u001b[0m\u001b[0mmusic\u001b[0m\u001b[0;34m.\u001b[0m\u001b[0mload\u001b[0m\u001b[0;34m(\u001b[0m\u001b[0;34m'musica.mp3'\u001b[0m\u001b[0;34m)\u001b[0m\u001b[0;34m\u001b[0m\u001b[0;34m\u001b[0m\u001b[0m\n\u001b[0m\u001b[1;32m      4\u001b[0m \u001b[0mpygame\u001b[0m\u001b[0;34m.\u001b[0m\u001b[0mmixer\u001b[0m\u001b[0;34m.\u001b[0m\u001b[0mmusic\u001b[0m\u001b[0;34m.\u001b[0m\u001b[0mplay\u001b[0m\u001b[0;34m(\u001b[0m\u001b[0;34m)\u001b[0m\u001b[0;34m\u001b[0m\u001b[0;34m\u001b[0m\u001b[0m\n\u001b[1;32m      5\u001b[0m \u001b[0mpygame\u001b[0m\u001b[0;34m.\u001b[0m\u001b[0mevent\u001b[0m\u001b[0;34m.\u001b[0m\u001b[0mwait\u001b[0m\u001b[0;34m(\u001b[0m\u001b[0;34m)\u001b[0m\u001b[0;34m\u001b[0m\u001b[0;34m\u001b[0m\u001b[0m\n",
            "\u001b[0;31merror\u001b[0m: mixer not initialized"
          ]
        }
      ]
    },
    {
      "cell_type": "markdown",
      "source": [
        "017- Crie um programa que leia o nome completo de uma pessoa e mostre:\n",
        "\n",
        "– O nome com todas as letras maiúsculas e minúsculas.\n",
        "\n",
        "– Quantas letras ao todo (sem considerar espaços).\n",
        "\n",
        "– Quantas letras tem o primeiro nome."
      ],
      "metadata": {
        "id": "LnHdALxztrLj"
      }
    },
    {
      "cell_type": "code",
      "source": [
        "nome = input('Qual o seu nome completo? ')\n",
        "\n",
        "\n",
        "print(f'Maiusculo: {nome.upper()}. Minusculo: {nome.lower()}. Qtd: {len(nome.strip())}. {len(\"Lara\")}')\n"
      ],
      "metadata": {
        "id": "ohTFH5o4tyYj",
        "outputId": "b3a9ca90-fcf4-4364-92e4-a1b827796b93",
        "colab": {
          "base_uri": "https://localhost:8080/"
        }
      },
      "execution_count": 16,
      "outputs": [
        {
          "output_type": "stream",
          "name": "stdout",
          "text": [
            "Qual o seu nome completo? Lara Fernanda Sampaio da Silva\n",
            "Maiusculo: LARA FERNANDA SAMPAIO DA SILVA. Minusculo: lara fernanda sampaio da silva. Qtd: 30. 4\n"
          ]
        }
      ]
    },
    {
      "cell_type": "markdown",
      "source": [
        "018 - Faça um programa que leia um número de 0 a 9999 e mostre na tela cada um dos dígitos separados."
      ],
      "metadata": {
        "id": "Ottubukjty8L"
      }
    },
    {
      "cell_type": "code",
      "source": [
        "num= int(input('Digite um numero de 0 a 9999: '))\n",
        "\n",
        "print(num.split())"
      ],
      "metadata": {
        "id": "azfK1o97t9g8"
      },
      "execution_count": null,
      "outputs": []
    },
    {
      "cell_type": "markdown",
      "source": [
        "019- Crie um programa que leia o nome de uma cidade diga se ela começa ou não com o nome “SANTO”."
      ],
      "metadata": {
        "id": "M17P-MeZt-Ip"
      }
    },
    {
      "cell_type": "code",
      "source": [],
      "metadata": {
        "id": "Pj63eqaauOpp"
      },
      "execution_count": null,
      "outputs": []
    },
    {
      "cell_type": "markdown",
      "source": [
        "020-  Crie um programa que leia o nome de uma pessoa e diga se ela tem “SILVA” no nome."
      ],
      "metadata": {
        "id": "TgUax99NuPGL"
      }
    },
    {
      "cell_type": "code",
      "source": [],
      "metadata": {
        "id": "A25QqWD4uXqX"
      },
      "execution_count": null,
      "outputs": []
    },
    {
      "cell_type": "markdown",
      "source": [
        "021- Faça um programa que leia uma frase pelo teclado e mostre quantas vezes aparece a letra “A”, em que posição ela aparece a primeira vez e em que posição ela aparece a última vez."
      ],
      "metadata": {
        "id": "Y21WrjdSuYMb"
      }
    },
    {
      "cell_type": "code",
      "source": [],
      "metadata": {
        "id": "-zQNQrrmunI9"
      },
      "execution_count": null,
      "outputs": []
    },
    {
      "cell_type": "markdown",
      "source": [
        "022- Faça um programa que leia o nome completo de uma pessoa, mostrando em seguida o primeiro e o último nome separadamente."
      ],
      "metadata": {
        "id": "jwKKx_Dlun0Z"
      }
    },
    {
      "cell_type": "code",
      "source": [],
      "metadata": {
        "id": "o9sx1S_fuxN-"
      },
      "execution_count": null,
      "outputs": []
    }
  ]
}